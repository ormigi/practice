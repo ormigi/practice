{
  "cells": [
    {
      "cell_type": "markdown",
      "id": "545acfbb",
      "metadata": {
        "id": "545acfbb"
      },
      "source": [
        "##  Transforming  UNSTRUCTURED TO STRUCTURED DATA"
      ]
    },
    {
      "cell_type": "markdown",
      "source": [
        "Please download and upload the original dataset from https://github.com/SuryaSD/Handling-Unstructured-Data-in-Python-Biometric-Data/blob/main/bio.xlsx"
      ],
      "metadata": {
        "id": "L5ZoChyO5IN-"
      },
      "id": "L5ZoChyO5IN-"
    },
    {
      "cell_type": "code",
      "execution_count": null,
      "id": "125c8ea3",
      "metadata": {
        "id": "125c8ea3"
      },
      "outputs": [],
      "source": [
        "import pandas as pd"
      ]
    },
    {
      "cell_type": "code",
      "execution_count": null,
      "id": "51d81727",
      "metadata": {
        "id": "51d81727"
      },
      "outputs": [],
      "source": [
        "# load data - an excel file that contains cells with info about the employee records; we want to create a sturctured file, where all the fields have names and contain one type of data only\n",
        "data = (r\"C:\\Users\\Mirela Giantaru\\OneDrive\\Desktop\\...\\notebooks portfolio Python\\bio.xlsx\")\n",
        "df = pd.read_excel(data)"
      ]
    },
    {
      "cell_type": "code",
      "execution_count": null,
      "id": "0c22e8a2",
      "metadata": {
        "id": "0c22e8a2",
        "outputId": "b76d731a-7e3d-458d-8be0-2d330b032836"
      },
      "outputs": [
        {
          "data": {
            "text/html": [
              "<div>\n",
              "<style scoped>\n",
              "    .dataframe tbody tr th:only-of-type {\n",
              "        vertical-align: middle;\n",
              "    }\n",
              "\n",
              "    .dataframe tbody tr th {\n",
              "        vertical-align: top;\n",
              "    }\n",
              "\n",
              "    .dataframe thead th {\n",
              "        text-align: right;\n",
              "    }\n",
              "</style>\n",
              "<table border=\"1\" class=\"dataframe\">\n",
              "  <thead>\n",
              "    <tr style=\"text-align: right;\">\n",
              "      <th></th>\n",
              "      <th>Unnamed: 0</th>\n",
              "      <th>Unnamed: 1</th>\n",
              "      <th>Unnamed: 2</th>\n",
              "      <th>Unnamed: 3</th>\n",
              "      <th>Unnamed: 4</th>\n",
              "      <th>Unnamed: 5</th>\n",
              "      <th>Unnamed: 6</th>\n",
              "      <th>Unnamed: 7</th>\n",
              "      <th>Unnamed: 8</th>\n",
              "      <th>Unnamed: 9</th>\n",
              "      <th>Unnamed: 10</th>\n",
              "      <th>Unnamed: 11</th>\n",
              "      <th>Unnamed: 12</th>\n",
              "      <th>Unnamed: 13</th>\n",
              "      <th>Unnamed: 14</th>\n",
              "      <th>Unnamed: 15</th>\n",
              "      <th>Unnamed: 16</th>\n",
              "      <th>Unnamed: 17</th>\n",
              "      <th>Unnamed: 18</th>\n",
              "    </tr>\n",
              "  </thead>\n",
              "  <tbody>\n",
              "    <tr>\n",
              "      <th>0</th>\n",
              "      <td>NaN</td>\n",
              "      <td>Daily Punch In Report</td>\n",
              "      <td>NaN</td>\n",
              "      <td>NaN</td>\n",
              "      <td>NaN</td>\n",
              "      <td>NaN</td>\n",
              "      <td>NaN</td>\n",
              "      <td>NaN</td>\n",
              "      <td>NaN</td>\n",
              "      <td>NaN</td>\n",
              "      <td>NaN</td>\n",
              "      <td>NaN</td>\n",
              "      <td>NaN</td>\n",
              "      <td>NaN</td>\n",
              "      <td>NaN</td>\n",
              "      <td>NaN</td>\n",
              "      <td>NaN</td>\n",
              "      <td>NaN</td>\n",
              "      <td>NaN</td>\n",
              "    </tr>\n",
              "    <tr>\n",
              "      <th>1</th>\n",
              "      <td>NaN</td>\n",
              "      <td>NaN</td>\n",
              "      <td>NaN</td>\n",
              "      <td>NaN</td>\n",
              "      <td>NaN</td>\n",
              "      <td>NaN</td>\n",
              "      <td>NaN</td>\n",
              "      <td>NaN</td>\n",
              "      <td>NaN</td>\n",
              "      <td>NaN</td>\n",
              "      <td>NaN</td>\n",
              "      <td>NaN</td>\n",
              "      <td>NaN</td>\n",
              "      <td>NaN</td>\n",
              "      <td>NaN</td>\n",
              "      <td>NaN</td>\n",
              "      <td>NaN</td>\n",
              "      <td>NaN</td>\n",
              "      <td>NaN</td>\n",
              "    </tr>\n",
              "    <tr>\n",
              "      <th>2</th>\n",
              "      <td>NaN</td>\n",
              "      <td>Mar 02 2021  To  Mar 02 2021</td>\n",
              "      <td>NaN</td>\n",
              "      <td>NaN</td>\n",
              "      <td>NaN</td>\n",
              "      <td>NaN</td>\n",
              "      <td>NaN</td>\n",
              "      <td>NaN</td>\n",
              "      <td>NaN</td>\n",
              "      <td>NaN</td>\n",
              "      <td>NaN</td>\n",
              "      <td>NaN</td>\n",
              "      <td>NaN</td>\n",
              "      <td>NaN</td>\n",
              "      <td>NaN</td>\n",
              "      <td>NaN</td>\n",
              "      <td>NaN</td>\n",
              "      <td>NaN</td>\n",
              "      <td>NaN</td>\n",
              "    </tr>\n",
              "    <tr>\n",
              "      <th>3</th>\n",
              "      <td>NaN</td>\n",
              "      <td>Company:</td>\n",
              "      <td>ABC Company</td>\n",
              "      <td>NaN</td>\n",
              "      <td>NaN</td>\n",
              "      <td>NaN</td>\n",
              "      <td>NaN</td>\n",
              "      <td>NaN</td>\n",
              "      <td>NaN</td>\n",
              "      <td>NaN</td>\n",
              "      <td>NaN</td>\n",
              "      <td>NaN</td>\n",
              "      <td>NaN</td>\n",
              "      <td>NaN</td>\n",
              "      <td>NaN</td>\n",
              "      <td>NaN</td>\n",
              "      <td>Printed On : Mar 03 2021 12:26</td>\n",
              "      <td>NaN</td>\n",
              "      <td>NaN</td>\n",
              "    </tr>\n",
              "    <tr>\n",
              "      <th>4</th>\n",
              "      <td>NaN</td>\n",
              "      <td>NaN</td>\n",
              "      <td>NaN</td>\n",
              "      <td>NaN</td>\n",
              "      <td>NaN</td>\n",
              "      <td>NaN</td>\n",
              "      <td>NaN</td>\n",
              "      <td>NaN</td>\n",
              "      <td>NaN</td>\n",
              "      <td>NaN</td>\n",
              "      <td>NaN</td>\n",
              "      <td>NaN</td>\n",
              "      <td>NaN</td>\n",
              "      <td>NaN</td>\n",
              "      <td>NaN</td>\n",
              "      <td>NaN</td>\n",
              "      <td>NaN</td>\n",
              "      <td>NaN</td>\n",
              "      <td>NaN</td>\n",
              "    </tr>\n",
              "  </tbody>\n",
              "</table>\n",
              "</div>"
            ],
            "text/plain": [
              "   Unnamed: 0                    Unnamed: 1   Unnamed: 2 Unnamed: 3  \\\n",
              "0         NaN         Daily Punch In Report          NaN        NaN   \n",
              "1         NaN                           NaN          NaN        NaN   \n",
              "2         NaN  Mar 02 2021  To  Mar 02 2021          NaN        NaN   \n",
              "3         NaN                      Company:  ABC Company        NaN   \n",
              "4         NaN                           NaN          NaN        NaN   \n",
              "\n",
              "  Unnamed: 4  Unnamed: 5 Unnamed: 6 Unnamed: 7  Unnamed: 8 Unnamed: 9  \\\n",
              "0        NaN         NaN        NaN        NaN         NaN        NaN   \n",
              "1        NaN         NaN        NaN        NaN         NaN        NaN   \n",
              "2        NaN         NaN        NaN        NaN         NaN        NaN   \n",
              "3        NaN         NaN        NaN        NaN         NaN        NaN   \n",
              "4        NaN         NaN        NaN        NaN         NaN        NaN   \n",
              "\n",
              "  Unnamed: 10 Unnamed: 11 Unnamed: 12 Unnamed: 13 Unnamed: 14 Unnamed: 15  \\\n",
              "0         NaN         NaN         NaN         NaN         NaN         NaN   \n",
              "1         NaN         NaN         NaN         NaN         NaN         NaN   \n",
              "2         NaN         NaN         NaN         NaN         NaN         NaN   \n",
              "3         NaN         NaN         NaN         NaN         NaN         NaN   \n",
              "4         NaN         NaN         NaN         NaN         NaN         NaN   \n",
              "\n",
              "                      Unnamed: 16  Unnamed: 17  Unnamed: 18  \n",
              "0                             NaN          NaN          NaN  \n",
              "1                             NaN          NaN          NaN  \n",
              "2                             NaN          NaN          NaN  \n",
              "3  Printed On : Mar 03 2021 12:26          NaN          NaN  \n",
              "4                             NaN          NaN          NaN  "
            ]
          },
          "execution_count": 3,
          "metadata": {},
          "output_type": "execute_result"
        }
      ],
      "source": [
        "df.head()"
      ]
    },
    {
      "cell_type": "code",
      "execution_count": null,
      "id": "3d77e25b",
      "metadata": {
        "id": "3d77e25b"
      },
      "outputs": [],
      "source": [
        "# removing NA values from the dataframe df\n",
        "df = df.fillna(\"\")"
      ]
    },
    {
      "cell_type": "code",
      "execution_count": null,
      "id": "87046c48",
      "metadata": {
        "id": "87046c48"
      },
      "outputs": [],
      "source": [
        "# removing all the blank rows\n",
        "df1 = df.dropna(how='all')"
      ]
    },
    {
      "cell_type": "code",
      "execution_count": null,
      "id": "b5a59d48",
      "metadata": {
        "id": "b5a59d48"
      },
      "outputs": [],
      "source": [
        "# picking the rows where present or absent values are there from 14 no column\n",
        "df1 = df1[df1['Unnamed: 14'].str.contains('sent')]"
      ]
    },
    {
      "cell_type": "code",
      "execution_count": null,
      "id": "2fea3221",
      "metadata": {
        "id": "2fea3221"
      },
      "outputs": [],
      "source": [
        "# Extracting only the Employee Names\n",
        "df_name = df.dropna(how='all')"
      ]
    },
    {
      "cell_type": "code",
      "execution_count": null,
      "id": "62b0ddf9",
      "metadata": {
        "id": "62b0ddf9",
        "outputId": "e2ab71fc-e6ef-48ac-a354-775ad1fcf6bc"
      },
      "outputs": [
        {
          "data": {
            "text/html": [
              "<div>\n",
              "<style scoped>\n",
              "    .dataframe tbody tr th:only-of-type {\n",
              "        vertical-align: middle;\n",
              "    }\n",
              "\n",
              "    .dataframe tbody tr th {\n",
              "        vertical-align: top;\n",
              "    }\n",
              "\n",
              "    .dataframe thead th {\n",
              "        text-align: right;\n",
              "    }\n",
              "</style>\n",
              "<table border=\"1\" class=\"dataframe\">\n",
              "  <thead>\n",
              "    <tr style=\"text-align: right;\">\n",
              "      <th></th>\n",
              "      <th>Unnamed: 0</th>\n",
              "      <th>Unnamed: 1</th>\n",
              "      <th>Unnamed: 2</th>\n",
              "      <th>Unnamed: 3</th>\n",
              "      <th>Unnamed: 4</th>\n",
              "      <th>Unnamed: 5</th>\n",
              "      <th>Unnamed: 6</th>\n",
              "      <th>Unnamed: 7</th>\n",
              "      <th>Unnamed: 8</th>\n",
              "      <th>Unnamed: 9</th>\n",
              "      <th>Unnamed: 10</th>\n",
              "      <th>Unnamed: 11</th>\n",
              "      <th>Unnamed: 12</th>\n",
              "      <th>Unnamed: 13</th>\n",
              "      <th>Unnamed: 14</th>\n",
              "      <th>Unnamed: 15</th>\n",
              "      <th>Unnamed: 16</th>\n",
              "      <th>Unnamed: 17</th>\n",
              "      <th>Unnamed: 18</th>\n",
              "    </tr>\n",
              "  </thead>\n",
              "  <tbody>\n",
              "    <tr>\n",
              "      <th>0</th>\n",
              "      <td></td>\n",
              "      <td>Daily Punch In Report</td>\n",
              "      <td></td>\n",
              "      <td></td>\n",
              "      <td></td>\n",
              "      <td></td>\n",
              "      <td></td>\n",
              "      <td></td>\n",
              "      <td></td>\n",
              "      <td></td>\n",
              "      <td></td>\n",
              "      <td></td>\n",
              "      <td></td>\n",
              "      <td></td>\n",
              "      <td></td>\n",
              "      <td></td>\n",
              "      <td></td>\n",
              "      <td></td>\n",
              "      <td></td>\n",
              "    </tr>\n",
              "    <tr>\n",
              "      <th>1</th>\n",
              "      <td></td>\n",
              "      <td></td>\n",
              "      <td></td>\n",
              "      <td></td>\n",
              "      <td></td>\n",
              "      <td></td>\n",
              "      <td></td>\n",
              "      <td></td>\n",
              "      <td></td>\n",
              "      <td></td>\n",
              "      <td></td>\n",
              "      <td></td>\n",
              "      <td></td>\n",
              "      <td></td>\n",
              "      <td></td>\n",
              "      <td></td>\n",
              "      <td></td>\n",
              "      <td></td>\n",
              "      <td></td>\n",
              "    </tr>\n",
              "    <tr>\n",
              "      <th>2</th>\n",
              "      <td></td>\n",
              "      <td>Mar 02 2021  To  Mar 02 2021</td>\n",
              "      <td></td>\n",
              "      <td></td>\n",
              "      <td></td>\n",
              "      <td></td>\n",
              "      <td></td>\n",
              "      <td></td>\n",
              "      <td></td>\n",
              "      <td></td>\n",
              "      <td></td>\n",
              "      <td></td>\n",
              "      <td></td>\n",
              "      <td></td>\n",
              "      <td></td>\n",
              "      <td></td>\n",
              "      <td></td>\n",
              "      <td></td>\n",
              "      <td></td>\n",
              "    </tr>\n",
              "    <tr>\n",
              "      <th>3</th>\n",
              "      <td></td>\n",
              "      <td>Company:</td>\n",
              "      <td>ABC Company</td>\n",
              "      <td></td>\n",
              "      <td></td>\n",
              "      <td></td>\n",
              "      <td></td>\n",
              "      <td></td>\n",
              "      <td></td>\n",
              "      <td></td>\n",
              "      <td></td>\n",
              "      <td></td>\n",
              "      <td></td>\n",
              "      <td></td>\n",
              "      <td></td>\n",
              "      <td></td>\n",
              "      <td>Printed On : Mar 03 2021 12:26</td>\n",
              "      <td></td>\n",
              "      <td></td>\n",
              "    </tr>\n",
              "    <tr>\n",
              "      <th>4</th>\n",
              "      <td></td>\n",
              "      <td></td>\n",
              "      <td></td>\n",
              "      <td></td>\n",
              "      <td></td>\n",
              "      <td></td>\n",
              "      <td></td>\n",
              "      <td></td>\n",
              "      <td></td>\n",
              "      <td></td>\n",
              "      <td></td>\n",
              "      <td></td>\n",
              "      <td></td>\n",
              "      <td></td>\n",
              "      <td></td>\n",
              "      <td></td>\n",
              "      <td></td>\n",
              "      <td></td>\n",
              "      <td></td>\n",
              "    </tr>\n",
              "  </tbody>\n",
              "</table>\n",
              "</div>"
            ],
            "text/plain": [
              "  Unnamed: 0                    Unnamed: 1   Unnamed: 2 Unnamed: 3 Unnamed: 4  \\\n",
              "0                    Daily Punch In Report                                      \n",
              "1                                                                               \n",
              "2             Mar 02 2021  To  Mar 02 2021                                      \n",
              "3                                 Company:  ABC Company                         \n",
              "4                                                                               \n",
              "\n",
              "  Unnamed: 5 Unnamed: 6 Unnamed: 7 Unnamed: 8 Unnamed: 9 Unnamed: 10  \\\n",
              "0                                                                      \n",
              "1                                                                      \n",
              "2                                                                      \n",
              "3                                                                      \n",
              "4                                                                      \n",
              "\n",
              "  Unnamed: 11 Unnamed: 12 Unnamed: 13 Unnamed: 14 Unnamed: 15  \\\n",
              "0                                                               \n",
              "1                                                               \n",
              "2                                                               \n",
              "3                                                               \n",
              "4                                                               \n",
              "\n",
              "                      Unnamed: 16 Unnamed: 17 Unnamed: 18  \n",
              "0                                                          \n",
              "1                                                          \n",
              "2                                                          \n",
              "3  Printed On : Mar 03 2021 12:26                          \n",
              "4                                                          "
            ]
          },
          "execution_count": 8,
          "metadata": {},
          "output_type": "execute_result"
        }
      ],
      "source": [
        "df_name.head()"
      ]
    },
    {
      "cell_type": "code",
      "execution_count": null,
      "id": "22c33c7a",
      "metadata": {
        "id": "22c33c7a"
      },
      "outputs": [],
      "source": [
        "# from column no 3 we are picking Employee names\n",
        "df_name = df_name[df_name['Unnamed: 3'].str.contains('Employee')]"
      ]
    },
    {
      "cell_type": "code",
      "execution_count": null,
      "id": "c513f426",
      "metadata": {
        "id": "c513f426",
        "outputId": "274d7642-6be4-4acf-8c9a-0f272c55aab5"
      },
      "outputs": [
        {
          "data": {
            "text/html": [
              "<div>\n",
              "<style scoped>\n",
              "    .dataframe tbody tr th:only-of-type {\n",
              "        vertical-align: middle;\n",
              "    }\n",
              "\n",
              "    .dataframe tbody tr th {\n",
              "        vertical-align: top;\n",
              "    }\n",
              "\n",
              "    .dataframe thead th {\n",
              "        text-align: right;\n",
              "    }\n",
              "</style>\n",
              "<table border=\"1\" class=\"dataframe\">\n",
              "  <thead>\n",
              "    <tr style=\"text-align: right;\">\n",
              "      <th></th>\n",
              "      <th>0</th>\n",
              "      <th>1</th>\n",
              "      <th>2</th>\n",
              "    </tr>\n",
              "  </thead>\n",
              "  <tbody>\n",
              "    <tr>\n",
              "      <th>0</th>\n",
              "      <td>Present</td>\n",
              "      <td>08:33:in(Second Door),08:35:(Second Door),08:3...</td>\n",
              "      <td>COMP123:John Sherrif</td>\n",
              "    </tr>\n",
              "    <tr>\n",
              "      <th>1</th>\n",
              "      <td>Absent</td>\n",
              "      <td></td>\n",
              "      <td>COMP124:James Lee</td>\n",
              "    </tr>\n",
              "    <tr>\n",
              "      <th>2</th>\n",
              "      <td>Present</td>\n",
              "      <td>09:02:in(Second Door),09:06:(Main Door),09:59:...</td>\n",
              "      <td>COMP125:Wayne McDonald</td>\n",
              "    </tr>\n",
              "  </tbody>\n",
              "</table>\n",
              "</div>"
            ],
            "text/plain": [
              "          0                                                  1  \\\n",
              "0  Present   08:33:in(Second Door),08:35:(Second Door),08:3...   \n",
              "1    Absent                                                      \n",
              "2  Present   09:02:in(Second Door),09:06:(Main Door),09:59:...   \n",
              "\n",
              "                        2  \n",
              "0    COMP123:John Sherrif  \n",
              "1       COMP124:James Lee  \n",
              "2  COMP125:Wayne McDonald  "
            ]
          },
          "execution_count": 10,
          "metadata": {},
          "output_type": "execute_result"
        }
      ],
      "source": [
        "# creating a new dataframe for Status, Punch Records and Employee Codes\n",
        "zippedList = list(\n",
        "\tzip(df1['Unnamed: 14'], df1['Unnamed: 15'], df_name['Unnamed: 7']))\n",
        "\n",
        "abc = pd.DataFrame(zippedList)\n",
        "abc.head()"
      ]
    },
    {
      "cell_type": "markdown",
      "id": "6445a8a4",
      "metadata": {
        "id": "6445a8a4"
      },
      "source": [
        "## Extracting Data for Second Door only, in the column 1"
      ]
    },
    {
      "cell_type": "code",
      "execution_count": null,
      "id": "b6c2c74e",
      "metadata": {
        "id": "b6c2c74e",
        "outputId": "19230418-315e-409a-fa52-1849a3831051"
      },
      "outputs": [
        {
          "data": {
            "text/plain": [
              "['08:33:in(Second Door)',\n",
              " '09:04:out(Second Door)',\n",
              " '09:09:in(Second Door)',\n",
              " '09:15:out(Second Door)',\n",
              " '09:52:in(Second Door)',\n",
              " '10:53:out(Second Door)',\n",
              " '11:47:in(Second Door)',\n",
              " '13:08:out(Second Door)',\n",
              " '13:14:in(Second Door)',\n",
              " '13:36:out(Second Door)',\n",
              " '14:27:in(Second Door)',\n",
              " '14:48:in(Second Door)',\n",
              " '14:56:out(Second Door)',\n",
              " '15:04:in(Second Door)',\n",
              " '16:22:out(Second Door)',\n",
              " '16:34:in(Second Door)']"
            ]
          },
          "execution_count": 11,
          "metadata": {},
          "output_type": "execute_result"
        }
      ],
      "source": [
        "# Splitting the values by comma in 1\n",
        "# no column (punch records)\n",
        "for i in range(len(abc)):\n",
        "\tabc[1][i] = abc[1][i].split(\",\")\n",
        "\n",
        "second_door = []\n",
        "\n",
        "for i in range(len(abc)):\n",
        "\ts_d = []\n",
        "\t\n",
        "\t# Extracting all the values which contains\n",
        "\t# only :in(Second Door) or :out(Second Dorr)\n",
        "\tfor j in range(len(abc[1][i])):\n",
        "\t\tif ':in(Second Door)' in abc[1][i][j]:\n",
        "\t\t\ts_d.append(abc[1][i][j])\n",
        "\n",
        "\t\tif 'out(Second Door)' in abc[1][i][j]:\n",
        "\t\t\ts_d.append(abc[1][i][j])\n",
        "\n",
        "\tsecond_door.append(s_d)\n",
        "(second_door[0])\n"
      ]
    },
    {
      "cell_type": "markdown",
      "id": "d554d059",
      "metadata": {
        "id": "d554d059"
      },
      "source": [
        "##### The punch record should start with ‘IN’ and end with ‘OUT’. Creating the pattern if it doesn’t follow."
      ]
    },
    {
      "cell_type": "code",
      "execution_count": null,
      "id": "c25a4b59",
      "metadata": {
        "id": "c25a4b59",
        "outputId": "d9725860-f638-47ed-89d3-7b2ba31f8c3d"
      },
      "outputs": [
        {
          "data": {
            "text/plain": [
              "['08:33:in(Second Door)',\n",
              " '09:04:out(Second Door)',\n",
              " '09:09:in(Second Door)',\n",
              " '09:15:out(Second Door)',\n",
              " '09:52:in(Second Door)',\n",
              " '10:53:out(Second Door)',\n",
              " '11:47:in(Second Door)',\n",
              " '13:08:out(Second Door)',\n",
              " '13:14:in(Second Door)',\n",
              " '13:36:out(Second Door)',\n",
              " '14:27:in(Second Door)',\n",
              " '14:48:in(Second Door)',\n",
              " '14:56:out(Second Door)',\n",
              " '15:04:in(Second Door)',\n",
              " '16:22:out(Second Door)',\n",
              " '16:34:in(Second Door)',\n",
              " 'out']"
            ]
          },
          "execution_count": 12,
          "metadata": {},
          "output_type": "execute_result"
        }
      ],
      "source": [
        "# Punch Records should start with\n",
        "# the keyword 'in'. If it doesn't\n",
        "# follow then we wil add 'in' and it\n",
        "# significants that the employee forgot\n",
        "# to do punch in\n",
        "in_time = []\n",
        "for i in range(len(second_door)):\n",
        "\ttry:\n",
        "\t\tif ':in(Second Door)' not in second_door[i][0]:\n",
        "\t\t\tsecond_door[i].insert(0, 'in')\n",
        "\n",
        "\texcept:\n",
        "\t\tpass\n",
        "\t\n",
        "# Punch Records should end with the keyword\n",
        "# 'out'. If it doesn't follow then we wil\n",
        "# add 'out' and it significants that the\n",
        "# employee forgot to do punch out\n",
        "out_time = []\n",
        "for i in range(len(second_door)):\n",
        "\ttry:\n",
        "\n",
        "\t\tif ':out(Second Door)' not in second_door[i][(len(second_door[i]))-1]:\n",
        "\t\t\tsecond_door[i].insert(((len(second_door[i]))), 'out')\n",
        "\texcept:\n",
        "\t\tpass\n",
        "second_door[0]\n"
      ]
    },
    {
      "cell_type": "markdown",
      "id": "1f34fa60",
      "metadata": {
        "id": "1f34fa60"
      },
      "source": [
        "#####  Creating the pattern ‘IN – OUT – IN – …..- OUT’. If someone forgot to do Punch – IN then we will put ‘IN’ & if someone forgot to do Punch – OUT then we will put ‘OUT’."
      ]
    },
    {
      "cell_type": "code",
      "execution_count": null,
      "id": "3f32cf78",
      "metadata": {
        "id": "3f32cf78",
        "outputId": "499cb577-feca-4476-ef91-38bdaa105a29"
      },
      "outputs": [
        {
          "name": "stdout",
          "output_type": "stream",
          "text": [
            "08:33:in(Second Door)   09:04:out(Second Door)\n",
            "09:09:in(Second Door)   09:15:out(Second Door)\n",
            "09:52:in(Second Door)   10:53:out(Second Door)\n",
            "11:47:in(Second Door)   13:08:out(Second Door)\n",
            "13:14:in(Second Door)   13:36:out(Second Door)\n",
            "14:27:in(Second Door)   out\n",
            "14:48:in(Second Door)   14:56:out(Second Door)\n",
            "15:04:in(Second Door)   16:22:out(Second Door)\n",
            "16:34:in(Second Door)   out\n"
          ]
        }
      ],
      "source": [
        "# final_in contains PUNCH - IN\n",
        "# records for all employees\n",
        "final_in = []\n",
        "\n",
        "# final_out contains PUNCH - OUT\n",
        "# records for all employees\n",
        "final_out = []\n",
        "\n",
        "for k in range(len(second_door)):\n",
        "\tin_gate = []\n",
        "\tout_gate = []\n",
        "\t\n",
        "\t# even position should be for Punch-\n",
        "\t# IN and odd position should be for\n",
        "\t# Punch - OUT if it doesn't follow\n",
        "\t# then we will create the pattern by\n",
        "\t# putting 'in' or 'out'\n",
        "\tfor i in range(len(second_door[k])):\n",
        "\t\tif i % 2 == 0 and 'in' in second_door[k][i]:\n",
        "\t\t\tin_gate.append(second_door[k][i])\n",
        "\t\t\ttry:\n",
        "\t\t\t\tif 'out' not in second_door[k][i+1]:\n",
        "\t\t\t\t\tout_gate.append('out')\n",
        "\t\t\texcept:\n",
        "\t\t\t\tpass\n",
        "\t\tif i % 2 != 0 and 'out' in second_door[k][i]:\n",
        "\t\t\tout_gate.append(second_door[k][i])\n",
        "\t\t\ttry:\n",
        "\t\t\t\tif 'in' not in second_door[k][i+1]:\n",
        "\t\t\t\t\tin_gate.append('in')\n",
        "\t\t\texcept:\n",
        "\t\t\t\tpass\n",
        "\t\tif i % 2 != 0 and 'in' in second_door[k][i]:\n",
        "\t\t\tin_gate.append(second_door[k][i])\n",
        "\n",
        "\t\t\ttry:\n",
        "\t\t\t\tif 'out' not in second_door[k][i+1]:\n",
        "\t\t\t\t\tout_gate.append('out')\n",
        "\t\t\texcept:\n",
        "\t\t\t\tpass\n",
        "\n",
        "\t\tif i % 2 == 0 and 'out' in second_door[k][i]:\n",
        "\t\t\tout_gate.append(second_door[k][i])\n",
        "\n",
        "\t\t\ttry:\n",
        "\t\t\t\tif 'in' not in second_door[k][i+1]:\n",
        "\t\t\t\t\tin_gate.append('in')\n",
        "\t\t\texcept:\n",
        "\t\t\t\tpass\n",
        "\tfinal_in.append(in_gate)\n",
        "\tfinal_out.append(out_gate)\n",
        "\n",
        "# final_in or final_out keep the\n",
        "# records as a list under list form.\n",
        "# to solve the problem we will merge the list\n",
        "\n",
        "# aa contains merged list of Punch - IN\n",
        "aa = final_in[0]\n",
        "for i in range(len(final_in)-1):\n",
        "\taa = aa + final_in[i+1]\n",
        "\t\n",
        "# bb contains merged list of Punch - OUT\n",
        "bb = final_out[0]\n",
        "for i in range(len(final_out)-1):\n",
        "\tbb = bb + final_out[i+1]\n",
        "\n",
        "for i in range(len(final_in[0])):\n",
        "\tprint(final_in[0][i], ' ', final_out[0][i])\n"
      ]
    },
    {
      "cell_type": "markdown",
      "id": "ae318733",
      "metadata": {
        "id": "ae318733"
      },
      "source": [
        "## Creating the final table"
      ]
    },
    {
      "cell_type": "code",
      "execution_count": null,
      "id": "c7f021fa",
      "metadata": {
        "id": "c7f021fa"
      },
      "outputs": [],
      "source": [
        "# Creating a dataframe called df_final\n",
        "df_final = []\n",
        "df_final = pd.DataFrame(df_final)"
      ]
    },
    {
      "cell_type": "code",
      "execution_count": null,
      "id": "2fc8d0b6",
      "metadata": {
        "id": "2fc8d0b6"
      },
      "outputs": [],
      "source": [
        "# Merging the Employee Names\n",
        "Name = []\n",
        "for i in range(len(abc)):\n",
        "\tfor j in range(len(final_in[i])):\n",
        "\t\tName.append(abc[2][i])\n",
        "df_final['Name'] = Name"
      ]
    },
    {
      "cell_type": "code",
      "execution_count": null,
      "id": "83da1df0",
      "metadata": {
        "id": "83da1df0"
      },
      "outputs": [],
      "source": [
        "# Zipping the Employee Name, Punch -IN\n",
        "# records and Punch - OUT records\n",
        "zippedList2 = list(zip(df_final['Name'], aa, bb))\n",
        "abc2 = pd.DataFrame(zippedList2)"
      ]
    },
    {
      "cell_type": "code",
      "execution_count": null,
      "id": "1ea8a2ec",
      "metadata": {
        "id": "1ea8a2ec"
      },
      "outputs": [],
      "source": [
        "\n",
        "# Renaming the dataframe\n",
        "abc2.columns = ['Emp Code', 'Punch - IN', 'Punch - OUT']\n",
        "abc2.to_excel('output.xlsx', index=False)"
      ]
    },
    {
      "cell_type": "code",
      "execution_count": null,
      "id": "b357fb9c",
      "metadata": {
        "id": "b357fb9c",
        "outputId": "cce61dc2-b066-43dd-ae55-e5cb1a890547"
      },
      "outputs": [
        {
          "data": {
            "text/html": [
              "<div>\n",
              "<style scoped>\n",
              "    .dataframe tbody tr th:only-of-type {\n",
              "        vertical-align: middle;\n",
              "    }\n",
              "\n",
              "    .dataframe tbody tr th {\n",
              "        vertical-align: top;\n",
              "    }\n",
              "\n",
              "    .dataframe thead th {\n",
              "        text-align: right;\n",
              "    }\n",
              "</style>\n",
              "<table border=\"1\" class=\"dataframe\">\n",
              "  <thead>\n",
              "    <tr style=\"text-align: right;\">\n",
              "      <th></th>\n",
              "      <th>Emp Code</th>\n",
              "      <th>Punch - IN</th>\n",
              "      <th>Punch - OUT</th>\n",
              "    </tr>\n",
              "  </thead>\n",
              "  <tbody>\n",
              "    <tr>\n",
              "      <th>0</th>\n",
              "      <td>COMP123:John Sherrif</td>\n",
              "      <td>08:33:in(Second Door)</td>\n",
              "      <td>09:04:out(Second Door)</td>\n",
              "    </tr>\n",
              "    <tr>\n",
              "      <th>1</th>\n",
              "      <td>COMP123:John Sherrif</td>\n",
              "      <td>09:09:in(Second Door)</td>\n",
              "      <td>09:15:out(Second Door)</td>\n",
              "    </tr>\n",
              "    <tr>\n",
              "      <th>2</th>\n",
              "      <td>COMP123:John Sherrif</td>\n",
              "      <td>09:52:in(Second Door)</td>\n",
              "      <td>10:53:out(Second Door)</td>\n",
              "    </tr>\n",
              "    <tr>\n",
              "      <th>3</th>\n",
              "      <td>COMP123:John Sherrif</td>\n",
              "      <td>11:47:in(Second Door)</td>\n",
              "      <td>13:08:out(Second Door)</td>\n",
              "    </tr>\n",
              "    <tr>\n",
              "      <th>4</th>\n",
              "      <td>COMP123:John Sherrif</td>\n",
              "      <td>13:14:in(Second Door)</td>\n",
              "      <td>13:36:out(Second Door)</td>\n",
              "    </tr>\n",
              "    <tr>\n",
              "      <th>5</th>\n",
              "      <td>COMP123:John Sherrif</td>\n",
              "      <td>14:27:in(Second Door)</td>\n",
              "      <td>out</td>\n",
              "    </tr>\n",
              "    <tr>\n",
              "      <th>6</th>\n",
              "      <td>COMP123:John Sherrif</td>\n",
              "      <td>14:48:in(Second Door)</td>\n",
              "      <td>14:56:out(Second Door)</td>\n",
              "    </tr>\n",
              "    <tr>\n",
              "      <th>7</th>\n",
              "      <td>COMP123:John Sherrif</td>\n",
              "      <td>15:04:in(Second Door)</td>\n",
              "      <td>16:22:out(Second Door)</td>\n",
              "    </tr>\n",
              "    <tr>\n",
              "      <th>8</th>\n",
              "      <td>COMP123:John Sherrif</td>\n",
              "      <td>16:34:in(Second Door)</td>\n",
              "      <td>out</td>\n",
              "    </tr>\n",
              "    <tr>\n",
              "      <th>9</th>\n",
              "      <td>COMP125:Wayne McDonald</td>\n",
              "      <td>09:02:in(Second Door)</td>\n",
              "      <td>09:59:out(Second Door)</td>\n",
              "    </tr>\n",
              "    <tr>\n",
              "      <th>10</th>\n",
              "      <td>COMP125:Wayne McDonald</td>\n",
              "      <td>in</td>\n",
              "      <td>11:15:out(Second Door)</td>\n",
              "    </tr>\n",
              "    <tr>\n",
              "      <th>11</th>\n",
              "      <td>COMP125:Wayne McDonald</td>\n",
              "      <td>12:21:in(Second Door)</td>\n",
              "      <td>13:50:out(Second Door)</td>\n",
              "    </tr>\n",
              "    <tr>\n",
              "      <th>12</th>\n",
              "      <td>COMP125:Wayne McDonald</td>\n",
              "      <td>14:21:in(Second Door)</td>\n",
              "      <td>16:03:out(Second Door)</td>\n",
              "    </tr>\n",
              "    <tr>\n",
              "      <th>13</th>\n",
              "      <td>COMP125:Wayne McDonald</td>\n",
              "      <td>16:10:in(Second Door)</td>\n",
              "      <td>16:25:out(Second Door)</td>\n",
              "    </tr>\n",
              "    <tr>\n",
              "      <th>14</th>\n",
              "      <td>COMP125:Wayne McDonald</td>\n",
              "      <td>17:21:in(Second Door)</td>\n",
              "      <td>19:05:out(Second Door)</td>\n",
              "    </tr>\n",
              "  </tbody>\n",
              "</table>\n",
              "</div>"
            ],
            "text/plain": [
              "                  Emp Code             Punch - IN             Punch - OUT\n",
              "0     COMP123:John Sherrif  08:33:in(Second Door)  09:04:out(Second Door)\n",
              "1     COMP123:John Sherrif  09:09:in(Second Door)  09:15:out(Second Door)\n",
              "2     COMP123:John Sherrif  09:52:in(Second Door)  10:53:out(Second Door)\n",
              "3     COMP123:John Sherrif  11:47:in(Second Door)  13:08:out(Second Door)\n",
              "4     COMP123:John Sherrif  13:14:in(Second Door)  13:36:out(Second Door)\n",
              "5     COMP123:John Sherrif  14:27:in(Second Door)                     out\n",
              "6     COMP123:John Sherrif  14:48:in(Second Door)  14:56:out(Second Door)\n",
              "7     COMP123:John Sherrif  15:04:in(Second Door)  16:22:out(Second Door)\n",
              "8     COMP123:John Sherrif  16:34:in(Second Door)                     out\n",
              "9   COMP125:Wayne McDonald  09:02:in(Second Door)  09:59:out(Second Door)\n",
              "10  COMP125:Wayne McDonald                     in  11:15:out(Second Door)\n",
              "11  COMP125:Wayne McDonald  12:21:in(Second Door)  13:50:out(Second Door)\n",
              "12  COMP125:Wayne McDonald  14:21:in(Second Door)  16:03:out(Second Door)\n",
              "13  COMP125:Wayne McDonald  16:10:in(Second Door)  16:25:out(Second Door)\n",
              "14  COMP125:Wayne McDonald  17:21:in(Second Door)  19:05:out(Second Door)"
            ]
          },
          "metadata": {},
          "output_type": "display_data"
        }
      ],
      "source": [
        "# Print the final, structured table\n",
        "display(abc2)\n"
      ]
    },
    {
      "cell_type": "markdown",
      "id": "f45b67df",
      "metadata": {
        "id": "f45b67df"
      },
      "source": [
        "##### Hence, the raw biometric data has been structured and is converted to useful information."
      ]
    },
    {
      "cell_type": "markdown",
      "id": "87139d3a",
      "metadata": {
        "id": "87139d3a"
      },
      "source": [
        "###### SOURCED FROM https://www.geeksforgeeks.org/how-to-convert-unstructured-data-to-structured-data-using-python/"
      ]
    }
  ],
  "metadata": {
    "kernelspec": {
      "display_name": "Python 3",
      "language": "python",
      "name": "python3"
    },
    "language_info": {
      "codemirror_mode": {
        "name": "ipython",
        "version": 3
      },
      "file_extension": ".py",
      "mimetype": "text/x-python",
      "name": "python",
      "nbconvert_exporter": "python",
      "pygments_lexer": "ipython3",
      "version": "3.8.8"
    },
    "colab": {
      "name": "unstructured-data-to-structured-data.ipynb",
      "provenance": [],
      "collapsed_sections": []
    }
  },
  "nbformat": 4,
  "nbformat_minor": 5
}